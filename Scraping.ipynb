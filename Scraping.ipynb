{
 "cells": [
  {
   "cell_type": "code",
   "execution_count": 66,
   "metadata": {},
   "outputs": [],
   "source": [
    "from bs4 import BeautifulSoup\n",
    "import pandas as pd\n",
    "import requests\n",
    "from datetime import date, timedelta"
   ]
  },
  {
   "cell_type": "code",
   "execution_count": 67,
   "metadata": {},
   "outputs": [],
   "source": [
    "level_df = pd.DataFrame(columns=['Survey_Date','Kinneret_Level'])"
   ]
  },
  {
   "cell_type": "code",
   "execution_count": 81,
   "metadata": {},
   "outputs": [],
   "source": [
    "start_date = date(1969, 1, 1)\n",
    "end_date = date(2021, 1, 1)\n",
    "delta = timedelta(days=1)\n",
    "i=0"
   ]
  },
  {
   "cell_type": "code",
   "execution_count": 86,
   "metadata": {},
   "outputs": [],
   "source": [
    "while start_date <= end_date:\n",
    "    url =\"http://kineret.org.il/miflasim/?singledate=+\"+str(start_date)+\"&submit=+%D7%94%D7%A6%D7%92+%D7%90%D7%AA+%D7%94%D7%9E%D7%A4%D7%9C%D7%A1+#singledate\"\n",
    "    response1 = requests.get(url)\n",
    "    soup1 = BeautifulSoup(response1.content,\"html.parser\")\n",
    "    mtag=soup1.find(\"span\",attrs={\"class\":\"hp_miflas_height\"})\n",
    "    level_df = level_df.append({'Survey_Date': str(start_date),'Kinneret_Level': mtag.text}, ignore_index=True)\n",
    "    start_date += delta\n",
    "    i=i+1\n",
    "    if(i>365):\n",
    "        i=0\n",
    "        level_df.to_csv('level_Scrapping.csv', index=False)"
   ]
  },
  {
   "cell_type": "code",
   "execution_count": 83,
   "metadata": {},
   "outputs": [],
   "source": [
    "level_df.to_csv('level_Scrapping.csv', index=False)"
   ]
  },
  {
   "cell_type": "code",
   "execution_count": 84,
   "metadata": {},
   "outputs": [
    {
     "data": {
      "text/html": [
       "<div>\n",
       "<style scoped>\n",
       "    .dataframe tbody tr th:only-of-type {\n",
       "        vertical-align: middle;\n",
       "    }\n",
       "\n",
       "    .dataframe tbody tr th {\n",
       "        vertical-align: top;\n",
       "    }\n",
       "\n",
       "    .dataframe thead th {\n",
       "        text-align: right;\n",
       "    }\n",
       "</style>\n",
       "<table border=\"1\" class=\"dataframe\">\n",
       "  <thead>\n",
       "    <tr style=\"text-align: right;\">\n",
       "      <th></th>\n",
       "      <th>Survey_Date</th>\n",
       "      <th>Kinneret_Level</th>\n",
       "    </tr>\n",
       "  </thead>\n",
       "  <tbody>\n",
       "    <tr>\n",
       "      <th>0</th>\n",
       "      <td>1969-01-01</td>\n",
       "      <td>-209.17</td>\n",
       "    </tr>\n",
       "    <tr>\n",
       "      <th>1</th>\n",
       "      <td>1969-01-02</td>\n",
       "      <td>-209.21</td>\n",
       "    </tr>\n",
       "    <tr>\n",
       "      <th>2</th>\n",
       "      <td>1969-01-03</td>\n",
       "      <td>-209.22</td>\n",
       "    </tr>\n",
       "    <tr>\n",
       "      <th>3</th>\n",
       "      <td>1969-01-04</td>\n",
       "      <td>-209.25</td>\n",
       "    </tr>\n",
       "    <tr>\n",
       "      <th>4</th>\n",
       "      <td>1969-01-05</td>\n",
       "      <td>-209.27</td>\n",
       "    </tr>\n",
       "  </tbody>\n",
       "</table>\n",
       "</div>"
      ],
      "text/plain": [
       "  Survey_Date Kinneret_Level\n",
       "0  1969-01-01        -209.17\n",
       "1  1969-01-02        -209.21\n",
       "2  1969-01-03        -209.22\n",
       "3  1969-01-04        -209.25\n",
       "4  1969-01-05        -209.27"
      ]
     },
     "execution_count": 84,
     "metadata": {},
     "output_type": "execute_result"
    }
   ],
   "source": [
    "level_df.head()"
   ]
  },
  {
   "cell_type": "code",
   "execution_count": 85,
   "metadata": {},
   "outputs": [
    {
     "data": {
      "text/html": [
       "<div>\n",
       "<style scoped>\n",
       "    .dataframe tbody tr th:only-of-type {\n",
       "        vertical-align: middle;\n",
       "    }\n",
       "\n",
       "    .dataframe tbody tr th {\n",
       "        vertical-align: top;\n",
       "    }\n",
       "\n",
       "    .dataframe thead th {\n",
       "        text-align: right;\n",
       "    }\n",
       "</style>\n",
       "<table border=\"1\" class=\"dataframe\">\n",
       "  <thead>\n",
       "    <tr style=\"text-align: right;\">\n",
       "      <th></th>\n",
       "      <th>Survey_Date</th>\n",
       "      <th>Kinneret_Level</th>\n",
       "    </tr>\n",
       "  </thead>\n",
       "  <tbody>\n",
       "    <tr>\n",
       "      <th>19009</th>\n",
       "      <td>2020-12-28</td>\n",
       "      <td>-209.905</td>\n",
       "    </tr>\n",
       "    <tr>\n",
       "      <th>19010</th>\n",
       "      <td>2020-12-29</td>\n",
       "      <td>-209.91</td>\n",
       "    </tr>\n",
       "    <tr>\n",
       "      <th>19011</th>\n",
       "      <td>2020-12-30</td>\n",
       "      <td>-209.905</td>\n",
       "    </tr>\n",
       "    <tr>\n",
       "      <th>19012</th>\n",
       "      <td>2020-12-31</td>\n",
       "      <td>-209.92</td>\n",
       "    </tr>\n",
       "    <tr>\n",
       "      <th>19013</th>\n",
       "      <td>2021-01-01</td>\n",
       "      <td>-209.92</td>\n",
       "    </tr>\n",
       "  </tbody>\n",
       "</table>\n",
       "</div>"
      ],
      "text/plain": [
       "      Survey_Date Kinneret_Level\n",
       "19009  2020-12-28       -209.905\n",
       "19010  2020-12-29        -209.91\n",
       "19011  2020-12-30       -209.905\n",
       "19012  2020-12-31        -209.92\n",
       "19013  2021-01-01        -209.92"
      ]
     },
     "execution_count": 85,
     "metadata": {},
     "output_type": "execute_result"
    }
   ],
   "source": [
    "level_df.tail()"
   ]
  },
  {
   "cell_type": "code",
   "execution_count": null,
   "metadata": {},
   "outputs": [],
   "source": []
  }
 ],
 "metadata": {
  "kernelspec": {
   "display_name": "Python 3",
   "language": "python",
   "name": "python3"
  },
  "language_info": {
   "codemirror_mode": {
    "name": "ipython",
    "version": 3
   },
   "file_extension": ".py",
   "mimetype": "text/x-python",
   "name": "python",
   "nbconvert_exporter": "python",
   "pygments_lexer": "ipython3",
   "version": "3.8.3"
  }
 },
 "nbformat": 4,
 "nbformat_minor": 4
}
